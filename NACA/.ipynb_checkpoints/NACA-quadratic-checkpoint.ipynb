{
 "cells": [
  {
   "cell_type": "markdown",
   "metadata": {},
   "source": [
    "# Non-Associative Commutative Algebras for Dynamical Systems\n"
   ]
  },
  {
   "cell_type": "markdown",
   "metadata": {},
   "source": [
    "We will consider quadratic dynamical systems, and go to general quasipolynomial differential equations of the form $$\\dot{x_i} = x_i\\sum_{j=1}^mA_{ij}\\prod_{k=1}^nx_k^{B_{jk}}$$"
   ]
  },
  {
   "cell_type": "markdown",
   "metadata": {},
   "source": [
    "In one dimension we have $$\\dot{x}=ax^2+bx+c$$ or in the notation above $$\\dot{x}=x(ax+b+c/x)=x\\sum_{j=1}^3A_{j}x^{B_j}.$$  With $A_1=a$, $A_2=b$, $A_3=c$ and $B_1=1$, $B_2=0$, $B_3=-1$."
   ]
  },
  {
   "cell_type": "code",
   "execution_count": 2,
   "metadata": {
    "collapsed": true
   },
   "outputs": [],
   "source": [
    "import numpy as np\n",
    "import sympy as sp"
   ]
  },
  {
   "cell_type": "code",
   "execution_count": 8,
   "metadata": {
    "collapsed": false
   },
   "outputs": [],
   "source": [
    "a1,a2,a3=sp.Symbol(\"a1\"),sp.Symbol(\"a2\"),sp.Symbol(\"a3\")\n",
    "b1,b2,b3=sp.Symbol(\"b1\"),sp.Symbol(\"b2\"),sp.Symbol(\"b3\")\n",
    "A=np.array([a1,a2,a3])\n",
    "B=np.array([b1,b2,b3])"
   ]
  },
  {
   "cell_type": "code",
   "execution_count": 16,
   "metadata": {
    "collapsed": false
   },
   "outputs": [],
   "source": [
    "M=np.outer(B,A)"
   ]
  },
  {
   "cell_type": "code",
   "execution_count": 20,
   "metadata": {
    "collapsed": false
   },
   "outputs": [
    {
     "name": "stdout",
     "output_type": "stream",
     "text": [
      "[[a1*b1 a2*b1 a3*b1]\n",
      " [a1*b2 a2*b2 a3*b2]\n",
      " [a1*b3 a2*b3 a3*b3]]\n"
     ]
    }
   ],
   "source": [
    "print M"
   ]
  },
  {
   "cell_type": "code",
   "execution_count": 25,
   "metadata": {
    "collapsed": false
   },
   "outputs": [
    {
     "data": {
      "text/plain": [
       "(9, 9)"
      ]
     },
     "execution_count": 25,
     "metadata": {},
     "output_type": "execute_result"
    }
   ],
   "source": []
  },
  {
   "cell_type": "code",
   "execution_count": null,
   "metadata": {
    "collapsed": true
   },
   "outputs": [],
   "source": []
  }
 ],
 "metadata": {
  "kernelspec": {
   "display_name": "Python 2",
   "language": "python",
   "name": "python2"
  },
  "language_info": {
   "codemirror_mode": {
    "name": "ipython",
    "version": 2
   },
   "file_extension": ".py",
   "mimetype": "text/x-python",
   "name": "python",
   "nbconvert_exporter": "python",
   "pygments_lexer": "ipython2",
   "version": "2.7.11"
  }
 },
 "nbformat": 4,
 "nbformat_minor": 0
}
