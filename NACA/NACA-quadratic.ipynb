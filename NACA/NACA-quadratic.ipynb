{
 "cells": [
  {
   "cell_type": "markdown",
   "metadata": {},
   "source": [
    "# Non-Associative Commutative Algebras for Dynamical Systems\n"
   ]
  },
  {
   "cell_type": "markdown",
   "metadata": {},
   "source": [
    "We will consider quadratic dynamical systems, and go to general quasipolynomial differential equations of the form $$\\dot{x_i} = x_i\\sum_{j=1}^mA_{ij}\\prod_{k=1}^nx_k^{B_{jk}}$$"
   ]
  },
  {
   "cell_type": "markdown",
   "metadata": {},
   "source": [
    "In one dimension we have $$\\dot{x}=ax^2+bx+c$$ or in the notation above $$\\dot{x}=x(ax+b+c/x)=x\\sum_{j=1}^3A_{j}x^{B_j}.$$  With $A_1=a$, $A_2=b$, $A_3=c$ and $B_1=1$, $B_2=0$, $B_3=-1$."
   ]
  },
  {
   "cell_type": "code",
   "execution_count": 2,
   "metadata": {
    "collapsed": true
   },
   "outputs": [],
   "source": [
    "import numpy as np\n",
    "import sympy as sp"
   ]
  },
  {
   "cell_type": "code",
   "execution_count": 50,
   "metadata": {
    "collapsed": false
   },
   "outputs": [],
   "source": [
    "a1,a2,a3=sp.Symbol(\"a1\"),sp.Symbol(\"a2\"),sp.Symbol(\"a3\")\n",
    "b1,b2,b3=sp.Symbol(\"b1\"),sp.Symbol(\"b2\"),sp.Symbol(\"b3\")\n",
    "U1,U2,U3=sp.Symbol(\"U1\"),sp.Symbol(\"U2\"),sp.Symbol(\"U3\")\n",
    "A=np.matrix([a1,a2,a3])\n",
    "B=np.matrix([1,0,-1])\n",
    "U=np.matrix([U1,U2,U3])"
   ]
  },
  {
   "cell_type": "code",
   "execution_count": 51,
   "metadata": {
    "collapsed": false
   },
   "outputs": [],
   "source": [
    "M=np.outer(B,A)"
   ]
  },
  {
   "cell_type": "code",
   "execution_count": 44,
   "metadata": {
    "collapsed": false
   },
   "outputs": [
    {
     "name": "stdout",
     "output_type": "stream",
     "text": [
      "[[a1 a2 a3]\n",
      " [0 0 0]\n",
      " [-a1 -a2 -a3]]\n"
     ]
    }
   ],
   "source": [
    "print M"
   ]
  },
  {
   "cell_type": "code",
   "execution_count": 45,
   "metadata": {
    "collapsed": false
   },
   "outputs": [],
   "source": [
    "U0=np.array([7.,1.,1./7])"
   ]
  },
  {
   "cell_type": "code",
   "execution_count": 47,
   "metadata": {
    "collapsed": false
   },
   "outputs": [
    {
     "data": {
      "text/plain": [
       "matrix([[7.0*a1, 7.0*a2, 7.0*a3],\n",
       "        [0, 0, 0],\n",
       "        [-0.142857142857143*a1, -0.142857142857143*a2, -0.142857142857143*a3]], dtype=object)"
      ]
     },
     "execution_count": 47,
     "metadata": {},
     "output_type": "execute_result"
    }
   ],
   "source": [
    "np.multiply(np.matrix(M),np.matrix(U0).transpose())"
   ]
  },
  {
   "cell_type": "code",
   "execution_count": 41,
   "metadata": {
    "collapsed": false
   },
   "outputs": [
    {
     "data": {
      "text/plain": [
       "matrix([[48.0*a1 + 6.85714285714286*a2 + 0.979591836734694*a3]], dtype=object)"
      ]
     },
     "execution_count": 41,
     "metadata": {},
     "output_type": "execute_result"
    }
   ],
   "source": [
    "np.matrix(U0)*np.matrix(M)*np.matrix(U0).transpose()"
   ]
  },
  {
   "cell_type": "code",
   "execution_count": 53,
   "metadata": {
    "collapsed": false
   },
   "outputs": [
    {
     "data": {
      "text/plain": [
       "matrix([[U1*(U1*a1 - U3*a1) + U2*(U1*a2 - U3*a2) + U3*(U1*a3 - U3*a3)]], dtype=object)"
      ]
     },
     "execution_count": 53,
     "metadata": {},
     "output_type": "execute_result"
    }
   ],
   "source": [
    "U*M*U.transpose()"
   ]
  },
  {
   "cell_type": "code",
   "execution_count": null,
   "metadata": {
    "collapsed": true
   },
   "outputs": [],
   "source": []
  }
 ],
 "metadata": {
  "kernelspec": {
   "display_name": "Python 2",
   "language": "python",
   "name": "python2"
  },
  "language_info": {
   "codemirror_mode": {
    "name": "ipython",
    "version": 2
   },
   "file_extension": ".py",
   "mimetype": "text/x-python",
   "name": "python",
   "nbconvert_exporter": "python",
   "pygments_lexer": "ipython2",
   "version": "2.7.11"
  }
 },
 "nbformat": 4,
 "nbformat_minor": 0
}
